{
 "cells": [
  {
   "cell_type": "code",
   "execution_count": 43,
   "metadata": {},
   "outputs": [
    {
     "name": "stderr",
     "output_type": "stream",
     "text": [
      "C:\\Users\\preductor\\AppData\\Local\\conda\\conda\\envs\\py3\\lib\\site-packages\\sklearn\\cross_validation.py:41: DeprecationWarning: This module was deprecated in version 0.18 in favor of the model_selection module into which all the refactored classes and functions are moved. Also note that the interface of the new CV iterators are different from that of this module. This module will be removed in 0.20.\n",
      "  \"This module will be removed in 0.20.\", DeprecationWarning)\n"
     ]
    }
   ],
   "source": [
    "from lightgbm import LGBMRegressor\n",
    "from sklearn.model_selection import GridSearchCV \n",
    "from sklearn.model_selection import StratifiedShuffleSplit\n",
    "from sklearn.preprocessing import LabelEncoder\n",
    "from sklearn.preprocessing import StandardScaler\n",
    "from xgboost import XGBRegressor\n",
    "import pandas as pd\n",
    "import numpy as np\n",
    "from sklearn.preprocessing import StandardScaler\n",
    "import warnings\n",
    "from matplotlib import pyplot as plt\n",
    "import pylab\n",
    "import holidays\n",
    "import pickle\n",
    "%matplotlib inline"
   ]
  },
  {
   "cell_type": "code",
   "execution_count": null,
   "metadata": {},
   "outputs": [],
   "source": [
    "agg_data_01r = pd.read_csv(r'C:\\Users\\preductor\\Documents\\MachineLearning\\6_course\\Time series analysis\\week_3\\agg_data_01.csv')\n",
    "agg_data_02r = pd.read_csv(r'C:\\Users\\preductor\\Documents\\MachineLearning\\6_course\\Time series analysis\\week_3\\agg_data_02.csv')\n",
    "agg_data_03r = pd.read_csv(r'C:\\Users\\preductor\\Documents\\MachineLearning\\6_course\\Time series analysis\\week_3\\agg_data_03.csv')\n",
    "agg_data_04r = pd.read_csv(r'C:\\Users\\preductor\\Documents\\MachineLearning\\6_course\\Time series analysis\\week_3\\agg_data_04.csv')\n",
    "agg_data_05r = pd.read_csv(r'C:\\Users\\preductor\\Documents\\MachineLearning\\6_course\\Time series analysis\\week_3\\agg_data_05.csv')\n",
    "agg_data_06r = pd.read_csv(r'C:\\Users\\preductor\\Documents\\MachineLearning\\6_course\\Time series analysis\\week_3\\agg_data_06.csv')\n",
    "agg_data_15_07r = pd.read_csv(r'C:\\Users\\preductor\\Documents\\MachineLearning\\6_course\\Time series analysis\\week_3\\agg_data_15-07.csv')\n",
    "agg_data_15_08r = pd.read_csv(r'C:\\Users\\preductor\\Documents\\MachineLearning\\6_course\\Time series analysis\\week_3\\agg_data_15-08.csv')\n",
    "agg_data_15_09r = pd.read_csv(r'C:\\Users\\preductor\\Documents\\MachineLearning\\6_course\\Time series analysis\\week_3\\agg_data_15-09.csv')\n",
    "agg_data_15_10r = pd.read_csv(r'C:\\Users\\preductor\\Documents\\MachineLearning\\6_course\\Time series analysis\\week_3\\agg_data_15-10.csv')\n",
    "agg_data_15_11r = pd.read_csv(r'C:\\Users\\preductor\\Documents\\MachineLearning\\6_course\\Time series analysis\\week_3\\agg_data_15-11.csv')\n",
    "agg_data_15_12r = pd.read_csv(r'C:\\Users\\preductor\\Documents\\MachineLearning\\6_course\\Time series analysis\\week_3\\agg_data_15-12.csv')\n"
   ]
  },
  {
   "cell_type": "markdown",
   "metadata": {},
   "source": [
    "## 1.Для каждой из шести задач прогнозирования сформируйте выборки."
   ]
  },
  {
   "cell_type": "markdown",
   "metadata": {},
   "source": [
    "### Агрегируем все данные за год"
   ]
  },
  {
   "cell_type": "code",
   "execution_count": null,
   "metadata": {},
   "outputs": [],
   "source": [
    "list_of_aggs = [agg_data_15_07, agg_data_15_08, agg_data_15_09, agg_data_15_10, \n",
    "                agg_data_15_11, agg_data_15_12, agg_data_01, agg_data_02, agg_data_03,\n",
    "                agg_data_04, agg_data_05, agg_data_06]"
   ]
  },
  {
   "cell_type": "code",
   "execution_count": 77,
   "metadata": {},
   "outputs": [],
   "source": [
    "def process_agg(agg):\n",
    "    rng = pd.date_range('8/1/2015 00:00', periods=agg.shape[0], freq='H')    \n",
    "    return agg.set_index(rng)"
   ]
  },
  {
   "cell_type": "code",
   "execution_count": 78,
   "metadata": {},
   "outputs": [],
   "source": [
    "agg_data_15_08 = process_agg(agg_data_15_08r)"
   ]
  },
  {
   "cell_type": "code",
   "execution_count": null,
   "metadata": {},
   "outputs": [],
   "source": [
    "# agg_data_05r.rename(columns={'Unnamed: 0':'day', 'Unnamed: 1':'hours'}, inplace=True)"
   ]
  },
  {
   "cell_type": "code",
   "execution_count": null,
   "metadata": {},
   "outputs": [],
   "source": [
    "# agg_data_15_12r.sort_values(by=['day','hours'], inplace=True)"
   ]
  },
  {
   "cell_type": "code",
   "execution_count": null,
   "metadata": {},
   "outputs": [],
   "source": [
    "agg_data = pd.concat(list_of_aggs, axis=0)"
   ]
  },
  {
   "cell_type": "code",
   "execution_count": null,
   "metadata": {},
   "outputs": [],
   "source": [
    "with open('agg_data.pkl', 'wb') as f:\n",
    "    pickle.dump(agg_data, f)"
   ]
  },
  {
   "cell_type": "code",
   "execution_count": null,
   "metadata": {},
   "outputs": [],
   "source": [
    "agg_data.shape"
   ]
  },
  {
   "cell_type": "markdown",
   "metadata": {},
   "source": [
    "### Оставляем только данные из 102 самых активных районов"
   ]
  },
  {
   "cell_type": "code",
   "execution_count": null,
   "metadata": {},
   "outputs": [],
   "source": [
    "with open('list_of_more_5.pkl','rb') as f:\n",
    "    list_of_more_5 = pickle.load(f)"
   ]
  },
  {
   "cell_type": "code",
   "execution_count": null,
   "metadata": {},
   "outputs": [],
   "source": [
    "agg_data = agg_data.loc[:, list_of_more_5.astype(str)]\n",
    "agg_data.head()"
   ]
  },
  {
   "cell_type": "markdown",
   "metadata": {},
   "source": [
    "## ----------------------------------------------------------------------------------------------"
   ]
  },
  {
   "cell_type": "code",
   "execution_count": null,
   "metadata": {},
   "outputs": [],
   "source": [
    "with open('agg_data.pkl', 'rb') as f:\n",
    "    agg_data = pickle.load(f)"
   ]
  },
  {
   "cell_type": "markdown",
   "metadata": {},
   "source": [
    "### Всевозможные значения T легко определить с помощью функции stack()"
   ]
  },
  {
   "cell_type": "code",
   "execution_count": null,
   "metadata": {},
   "outputs": [],
   "source": [
    "# raw_data = agg_data.stack().reset_index(level=[1])\n",
    "# data = raw_data.copy()"
   ]
  },
  {
   "cell_type": "code",
   "execution_count": null,
   "metadata": {},
   "outputs": [],
   "source": [
    "# models_count = 6\n",
    "# last_index = agg_data.tail(1).index.shift(-models_count, freq='H').values[0]\n",
    "# data.drop(index=data[data.index>last_index].index, inplace=True)\n",
    "# data.columns=['region', 'trips']\n",
    "# data.head()"
   ]
  },
  {
   "cell_type": "markdown",
   "metadata": {},
   "source": [
    "### Обозначим все targets для регрессий"
   ]
  },
  {
   "cell_type": "code",
   "execution_count": null,
   "metadata": {},
   "outputs": [],
   "source": [
    "# for i in range(1, models_count+1):\n",
    "#     try:\n",
    "#         data['target_{}'.format(i)] = agg_data.iloc[i:-models_count+i, :].stack().values\n",
    "#     except:\n",
    "#         data['target_{}'.format(i)] = agg_data.iloc[i:, :].stack().values"
   ]
  },
  {
   "cell_type": "code",
   "execution_count": null,
   "metadata": {},
   "outputs": [],
   "source": [
    "data.shape"
   ]
  },
  {
   "cell_type": "markdown",
   "metadata": {},
   "source": [
    "### Определим признаки для регрессий для начала из прошлой недели"
   ]
  },
  {
   "cell_type": "code",
   "execution_count": null,
   "metadata": {},
   "outputs": [],
   "source": [
    "# data['holiday'] = [1 if (x in holidays.US()) else 0 for x in data.index]"
   ]
  },
  {
   "cell_type": "code",
   "execution_count": null,
   "metadata": {},
   "outputs": [],
   "source": [
    "# bh = pd.date_range(start=agg_data.index[0], end=agg_data.index[-1], freq='BH')\n",
    "# data['is_business_hour'] = [i in bh for i in data.index]\n",
    "# data['is_business_hour'] = data['is_business_hour'].astype(int)"
   ]
  },
  {
   "cell_type": "code",
   "execution_count": null,
   "metadata": {},
   "outputs": [],
   "source": [
    "# data['hour'] = data.index.hour\n",
    "# data['month'] = data.index.month\n",
    "# data['year'] = data.index.year\n",
    "# data['date'] = data.index.day"
   ]
  },
  {
   "cell_type": "code",
   "execution_count": null,
   "metadata": {},
   "outputs": [],
   "source": [
    "# data['weekday'] = [x.weekday() for x in data.index]"
   ]
  },
  {
   "cell_type": "code",
   "execution_count": null,
   "metadata": {},
   "outputs": [],
   "source": [
    "# num_of_harmonics = 15\n",
    "# for K in range(1,num_of_harmonics+1):\n",
    "#     data['sin_'+str(K)] = [np.sin((x//102+1)*(2.*np.pi*K)/168) for x in range(data.shape[0])]\n",
    "#     data['cos_'+str(K)] = [np.cos((x//102+1)*(2.*np.pi*K)/168) for x in range(data.shape[0])]"
   ]
  },
  {
   "cell_type": "markdown",
   "metadata": {},
   "source": [
    "### И новые признаки"
   ]
  },
  {
   "cell_type": "code",
   "execution_count": null,
   "metadata": {},
   "outputs": [],
   "source": [
    "# X = data.loc[agg_data_15_08.index[0]:,:]"
   ]
  },
  {
   "cell_type": "code",
   "execution_count": null,
   "metadata": {},
   "outputs": [],
   "source": [
    "# Kd = 2\n",
    "# for i in range(1,Kd+1): \n",
    "#     X['y-{}'.format(i*24)] = data.loc[:,'trips'].shift(+i*24).loc[agg_data_15_08.index[0]:]"
   ]
  },
  {
   "cell_type": "code",
   "execution_count": null,
   "metadata": {},
   "outputs": [],
   "source": [
    "# K = 6\n",
    "# for i in range(1,K+1):   \n",
    "#     X['y-{}'.format(i)] = data.loc[:,'trips'].shift(+i).loc[agg_data_15_08.index[0]:]"
   ]
  },
  {
   "cell_type": "markdown",
   "metadata": {},
   "source": [
    "## -------------------------------------------------------------------------------"
   ]
  },
  {
   "cell_type": "code",
   "execution_count": null,
   "metadata": {},
   "outputs": [],
   "source": [
    "# with open('X.pkl', 'wb') as f:\n",
    "#     pickle.dump(X, f)"
   ]
  },
  {
   "cell_type": "code",
   "execution_count": null,
   "metadata": {},
   "outputs": [],
   "source": [
    "# for i in [12, 24, 24*7, 24*30]:\n",
    "#     X['sum_{}'.format(i)] = agg_data.rolling(i).sum().loc[agg_data_15_08.index[0]:,:].iloc[:-6].stack().values"
   ]
  },
  {
   "cell_type": "code",
   "execution_count": null,
   "metadata": {},
   "outputs": [],
   "source": [
    "# with open('X.pkl', 'rb') as f:\n",
    "#     X = pickle.load(f)"
   ]
  },
  {
   "cell_type": "code",
   "execution_count": null,
   "metadata": {},
   "outputs": [],
   "source": [
    "# sub_1 = X.loc[:,['holiday','is_business_hour','hour', 'year', 'weekday']].astype('category')\n",
    "# sub_1 = pd.get_dummies(sub_1)\n",
    "# sub_2 = X.loc[:,['region', 'month', 'date']].astype('category')\n",
    "# sub_2 = sub_2.apply(LabelEncoder().fit_transform)\n",
    "# # X_targets = X.loc[:,targets]\n",
    "# X.drop(columns=['region','holiday','is_business_hour','hour', 'month',\n",
    "#        'year', 'date', 'weekday'], inplace=True)\n",
    "# sub_3 = pd.DataFrame(index=X.index, columns=X.columns, data=StandardScaler().fit_transform(X))\n",
    "# X = pd.concat([sub_3,sub_1,sub_2],axis=1)"
   ]
  },
  {
   "cell_type": "markdown",
   "metadata": {},
   "source": [
    "## 2. Разбейте каждую из шести выборок на три части"
   ]
  },
  {
   "cell_type": "code",
   "execution_count": null,
   "metadata": {},
   "outputs": [],
   "source": [
    "%%time\n",
    "clf_6 = result(X)"
   ]
  },
  {
   "cell_type": "code",
   "execution_count": null,
   "metadata": {},
   "outputs": [],
   "source": [
    "train_X = X.loc[:agg_data_04.index[-1],:]\n",
    "test_X = X.loc[agg_data_05.index[0]:agg_data_06.index[0],:]\n",
    "hold_out = X.loc[agg_data_06.index[0]:,:]"
   ]
  },
  {
   "cell_type": "markdown",
   "metadata": {},
   "source": [
    "## 3.Выберите вашу любимую регрессионную модель и настройте её на каждом из шести наборов данных, подбирая гиперпараметры на мае 2016"
   ]
  },
  {
   "cell_type": "markdown",
   "metadata": {},
   "source": [
    "### Здесь предыдущая обработка данных в функциях, чтоб удобно было экспериментировать"
   ]
  },
  {
   "cell_type": "code",
   "execution_count": null,
   "metadata": {},
   "outputs": [],
   "source": [
    "def processing_1(raw_data):\n",
    "    data = raw_data.copy()\n",
    "    # ----------------------------------------------\n",
    "    last_index = agg_data.tail(1).index.shift(-6, freq='H').values[0]\n",
    "    data.drop(index=data[data.index>last_index].index, inplace=True)\n",
    "    data.columns=['region', 'trips']\n",
    "    # -------------------------------------------------    \n",
    "    for i in range(1, models_count+1):\n",
    "        try:\n",
    "            data['target_{}'.format(i)] = agg_data.iloc[i:-models_count+i, :].stack().values\n",
    "        except:\n",
    "            data['target_{}'.format(i)] = agg_data.iloc[i:, :].stack().values\n",
    "    # --------------------------------------------------    \n",
    "    data['holiday'] = [1 if (x in holidays.US()) else 0 for x in data.index]    \n",
    "    bh = pd.date_range(start=agg_data.index[0], end=agg_data.index[-1], freq='BH')\n",
    "    data['is_business_hour'] = [i in bh for i in data.index]\n",
    "    data['is_business_hour'] = data['is_business_hour'].astype(int)\n",
    "    # ---------------------------------------------------\n",
    "    data['hour'] = data.index.hour\n",
    "    data['month'] = data.index.month\n",
    "    data['year'] = data.index.year\n",
    "    data['date'] = data.index.day    \n",
    "    data['weekday'] = [x.weekday() for x in data.index]\n",
    "    # ----------------------------------------------------\n",
    "    num_of_harmonics = 15\n",
    "    for K in range(1,num_of_harmonics+1):\n",
    "        data['sin_'+str(K)] = [np.sin((x//102+1)*(2.*np.pi*K)/168) for x in range(data.shape[0])]\n",
    "        data['cos_'+str(K)] = [np.cos((x//102+1)*(2.*np.pi*K)/168) for x in range(data.shape[0])]\n",
    "    # ----------------------------------------------------    \n",
    "    return data"
   ]
  },
  {
   "cell_type": "code",
   "execution_count": null,
   "metadata": {},
   "outputs": [],
   "source": [
    "def processing_2(data):\n",
    "    X = data.loc[agg_data_15_08.index[0]:,:]\n",
    "    \n",
    "    Kd = 7\n",
    "    for i in range(1,Kd+1): \n",
    "        X['y-{}'.format(i*24)] = data.loc[:,'trips'].shift(+i*24).loc[agg_data_15_08.index[0]:]\n",
    "        \n",
    "    K = 12\n",
    "    for i in range(1,K+1):   \n",
    "        X['y-{}'.format(i)] = data.loc[:,'trips'].shift(+i).loc[agg_data_15_08.index[0]:]\n",
    "        \n",
    "    for i in [12, 24, 24*7, 24*30]:\n",
    "        X['sum_{}'.format(i)] = agg_data.rolling(i).sum().loc[agg_data_15_08.index[0]:,\n",
    "                                                              :].iloc[:-6].stack().values\n",
    "\n",
    "    targets = ['target_1', 'target_2', 'target_3', 'target_4', 'target_5', 'target_6']\n",
    "    \n",
    "    sub_1 = X.loc[:,['holiday','is_business_hour','hour',\n",
    "                     'year', 'weekday']].astype('category')\n",
    "    sub_1 = pd.get_dummies(sub_1)\n",
    "    sub_2 = X.loc[:,['region', 'month', 'date']].astype('category')\n",
    "    sub_2 = sub_2.apply(LabelEncoder().fit_transform)\n",
    "    X_targets = X.loc[:,targets]\n",
    "    X.drop(columns=['region', 'month', 'date', 'holiday','is_business_hour','hour',\n",
    "                     'year', 'weekday']+targets, inplace=True)\n",
    "    sub_3 = pd.DataFrame(index=X.index, columns=X.columns, data=StandardScaler().fit_transform(X))\n",
    "    X = pd.concat([sub_3,sub_1,sub_2,X_targets],axis=1)\n",
    "       \n",
    "    return X"
   ]
  },
  {
   "cell_type": "code",
   "execution_count": 45,
   "metadata": {},
   "outputs": [],
   "source": [
    "warnings.simplefilter('ignore')\n",
    "data = processing_1(raw_data)\n",
    "X = processing_2(data)\n",
    "targets = ['target_1', 'target_2', 'target_3', 'target_4', 'target_5', 'target_6']"
   ]
  },
  {
   "cell_type": "markdown",
   "metadata": {},
   "source": [
    "### Модель сначала настраивал, потом стал работать уже с одним набором параметров"
   ]
  },
  {
   "cell_type": "code",
   "execution_count": 147,
   "metadata": {},
   "outputs": [],
   "source": [
    "def result(target_name):    \n",
    "    param_grid = {\n",
    "        'max_depth':[3],\n",
    "        'learning_rate': [0.05],\n",
    "        'n_estimators': [50],\n",
    "        'objective' : ['reg:linear'],\n",
    "        'colsample_bytree' : [0.8],\n",
    "        'subsample' : [0.7],\n",
    "        'reg_alpha' : [1.2],\n",
    "        'reg_lambda' : [1.2],\n",
    "        'silent':[True]\n",
    "        }\n",
    "    fit_params = {\n",
    "                \"eval_set\" : [(test_X.drop(columns=targets),test_X[target_name])],\n",
    "                'verbose': False\n",
    "                }\n",
    "    \n",
    "#     gscv = GridSearchCV(XGBRegressor(), param_grid, scoring='neg_mean_absolute_error', fit_params=fit_params,\n",
    "#         cv=2, verbose=True)\n",
    "#     gscv.fit(train_X.drop(columns=targets),train_X[target_name])\n",
    "#     clf = gscv.best_estimator_\n",
    "\n",
    "    clf = XGBRegressor(max_depth=3,\n",
    "        learning_rate=0.05,\n",
    "        n_estimators=50,\n",
    "        objective='reg:linear',\n",
    "        colsample_bytree=0.8,\n",
    "        subsample=0.7,\n",
    "        reg_alpha=1.2,\n",
    "        reg_lambda=1.2,\n",
    "        silent=True)\n",
    "    \n",
    "    clf.fit(train_X.drop(columns=targets), train_X[target_name], \n",
    "            eval_set=[(test_X.drop(columns=targets),test_X[target_name])],verbose=False)\n",
    "    \n",
    "\n",
    "    return clf"
   ]
  },
  {
   "cell_type": "markdown",
   "metadata": {},
   "source": [
    "## 4. Выбранными моделями постройте для каждой географической зоны и каждого конца истории от 2016.04.30 23:00 до 2016.05.31 17:00 прогнозы на 6 часов вперёд; "
   ]
  },
  {
   "cell_type": "code",
   "execution_count": 148,
   "metadata": {},
   "outputs": [],
   "source": [
    "train_X = X.loc[:agg_data_04.index[-1],:]\n",
    "test_X = X.loc[agg_data_05.index[0]:,:]\n",
    "test_X.drop(index=X.loc[agg_data_05.index[-7]:].index, inplace=True)\n",
    "hold_out = X.loc[agg_data_05.index[-7]:]\n",
    "\n",
    "indexes = X.loc[agg_data_05.index[-1]:,:].index\n",
    "    \n",
    "temp = pd.DataFrame(index=indexes, columns=['region'])\n",
    "\n",
    "temp.region = data.region.loc[indexes.unique()].values\n",
    "\n",
    "for i in targets:\n",
    "    temp[i] = X.loc[indexes.unique(),i].values\n",
    "    \n",
    "for i in targets:\n",
    "    clf = result(i)\n",
    "    res = [int(x) for x in clf.predict(X.loc[indexes.unique(),:].drop(columns=targets))]\n",
    "    temp[i+'_pred'] = res\n"
   ]
  },
  {
   "cell_type": "code",
   "execution_count": 155,
   "metadata": {},
   "outputs": [
    {
     "data": {
      "text/html": [
       "<div>\n",
       "<style scoped>\n",
       "    .dataframe tbody tr th:only-of-type {\n",
       "        vertical-align: middle;\n",
       "    }\n",
       "\n",
       "    .dataframe tbody tr th {\n",
       "        vertical-align: top;\n",
       "    }\n",
       "\n",
       "    .dataframe thead th {\n",
       "        text-align: right;\n",
       "    }\n",
       "</style>\n",
       "<table border=\"1\" class=\"dataframe\">\n",
       "  <thead>\n",
       "    <tr style=\"text-align: right;\">\n",
       "      <th></th>\n",
       "      <th>region</th>\n",
       "      <th>target_1</th>\n",
       "      <th>target_2</th>\n",
       "      <th>target_3</th>\n",
       "      <th>target_4</th>\n",
       "      <th>target_5</th>\n",
       "      <th>target_6</th>\n",
       "      <th>target_1_pred</th>\n",
       "      <th>target_2_pred</th>\n",
       "      <th>target_3_pred</th>\n",
       "      <th>target_4_pred</th>\n",
       "      <th>target_5_pred</th>\n",
       "      <th>target_6_pred</th>\n",
       "    </tr>\n",
       "  </thead>\n",
       "  <tbody>\n",
       "    <tr>\n",
       "      <th>2016-05-31 23:00:00</th>\n",
       "      <td>1075</td>\n",
       "      <td>27</td>\n",
       "      <td>14</td>\n",
       "      <td>5</td>\n",
       "      <td>2</td>\n",
       "      <td>1</td>\n",
       "      <td>7</td>\n",
       "      <td>37</td>\n",
       "      <td>31</td>\n",
       "      <td>38</td>\n",
       "      <td>44</td>\n",
       "      <td>49</td>\n",
       "      <td>54</td>\n",
       "    </tr>\n",
       "    <tr>\n",
       "      <th>2016-05-31 23:00:00</th>\n",
       "      <td>1076</td>\n",
       "      <td>30</td>\n",
       "      <td>21</td>\n",
       "      <td>25</td>\n",
       "      <td>5</td>\n",
       "      <td>8</td>\n",
       "      <td>31</td>\n",
       "      <td>80</td>\n",
       "      <td>81</td>\n",
       "      <td>58</td>\n",
       "      <td>62</td>\n",
       "      <td>59</td>\n",
       "      <td>79</td>\n",
       "    </tr>\n",
       "    <tr>\n",
       "      <th>2016-05-31 23:00:00</th>\n",
       "      <td>1077</td>\n",
       "      <td>19</td>\n",
       "      <td>6</td>\n",
       "      <td>4</td>\n",
       "      <td>3</td>\n",
       "      <td>3</td>\n",
       "      <td>17</td>\n",
       "      <td>52</td>\n",
       "      <td>55</td>\n",
       "      <td>40</td>\n",
       "      <td>48</td>\n",
       "      <td>59</td>\n",
       "      <td>69</td>\n",
       "    </tr>\n",
       "  </tbody>\n",
       "</table>\n",
       "</div>"
      ],
      "text/plain": [
       "                    region  target_1  target_2  target_3  target_4  target_5  \\\n",
       "2016-05-31 23:00:00   1075        27        14         5         2         1   \n",
       "2016-05-31 23:00:00   1076        30        21        25         5         8   \n",
       "2016-05-31 23:00:00   1077        19         6         4         3         3   \n",
       "\n",
       "                     target_6  target_1_pred  target_2_pred  target_3_pred  \\\n",
       "2016-05-31 23:00:00         7             37             31             38   \n",
       "2016-05-31 23:00:00        31             80             81             58   \n",
       "2016-05-31 23:00:00        17             52             55             40   \n",
       "\n",
       "                     target_4_pred  target_5_pred  target_6_pred  \n",
       "2016-05-31 23:00:00             44             49             54  \n",
       "2016-05-31 23:00:00             62             59             79  \n",
       "2016-05-31 23:00:00             48             59             69  "
      ]
     },
     "execution_count": 155,
     "metadata": {},
     "output_type": "execute_result"
    }
   ],
   "source": [
    "temp.head(3)"
   ]
  },
  {
   "cell_type": "code",
   "execution_count": 319,
   "metadata": {},
   "outputs": [],
   "source": [
    "ftemp = temp.drop(columns=targets, axis=1)\n",
    "\n",
    "ftemp.rename(columns={'target_1_pred':'1',\n",
    "                     'target_2_pred':'2',\n",
    "                     'target_3_pred':'3',\n",
    "                     'target_4_pred':'4',\n",
    "                     'target_5_pred':'5',\n",
    "                     'target_6_pred':'6'}, inplace=True)"
   ]
  },
  {
   "cell_type": "code",
   "execution_count": 320,
   "metadata": {},
   "outputs": [
    {
     "data": {
      "text/html": [
       "<div>\n",
       "<style scoped>\n",
       "    .dataframe tbody tr th:only-of-type {\n",
       "        vertical-align: middle;\n",
       "    }\n",
       "\n",
       "    .dataframe tbody tr th {\n",
       "        vertical-align: top;\n",
       "    }\n",
       "\n",
       "    .dataframe thead th {\n",
       "        text-align: right;\n",
       "    }\n",
       "</style>\n",
       "<table border=\"1\" class=\"dataframe\">\n",
       "  <thead>\n",
       "    <tr style=\"text-align: right;\">\n",
       "      <th></th>\n",
       "      <th>region</th>\n",
       "      <th>1</th>\n",
       "      <th>2</th>\n",
       "      <th>3</th>\n",
       "      <th>4</th>\n",
       "      <th>5</th>\n",
       "      <th>6</th>\n",
       "      <th>time</th>\n",
       "    </tr>\n",
       "  </thead>\n",
       "  <tbody>\n",
       "    <tr>\n",
       "      <th>2016-05-31 23:00:00</th>\n",
       "      <td>1075</td>\n",
       "      <td>37</td>\n",
       "      <td>31</td>\n",
       "      <td>38</td>\n",
       "      <td>44</td>\n",
       "      <td>49</td>\n",
       "      <td>54</td>\n",
       "      <td>2016-05-31 23:00:00</td>\n",
       "    </tr>\n",
       "    <tr>\n",
       "      <th>2016-06-01 00:00:00</th>\n",
       "      <td>1075</td>\n",
       "      <td>33</td>\n",
       "      <td>30</td>\n",
       "      <td>38</td>\n",
       "      <td>46</td>\n",
       "      <td>49</td>\n",
       "      <td>56</td>\n",
       "      <td>2016-06-01 00:00:00</td>\n",
       "    </tr>\n",
       "    <tr>\n",
       "      <th>2016-06-01 01:00:00</th>\n",
       "      <td>1075</td>\n",
       "      <td>27</td>\n",
       "      <td>26</td>\n",
       "      <td>37</td>\n",
       "      <td>46</td>\n",
       "      <td>53</td>\n",
       "      <td>56</td>\n",
       "      <td>2016-06-01 01:00:00</td>\n",
       "    </tr>\n",
       "  </tbody>\n",
       "</table>\n",
       "</div>"
      ],
      "text/plain": [
       "                    region   1   2   3   4   5   6                time\n",
       "2016-05-31 23:00:00   1075  37  31  38  44  49  54 2016-05-31 23:00:00\n",
       "2016-06-01 00:00:00   1075  33  30  38  46  49  56 2016-06-01 00:00:00\n",
       "2016-06-01 01:00:00   1075  27  26  37  46  53  56 2016-06-01 01:00:00"
      ]
     },
     "execution_count": 320,
     "metadata": {},
     "output_type": "execute_result"
    }
   ],
   "source": [
    "final = ftemp.copy()\n",
    "final['time'] = final.index\n",
    "final.sort_values(by=['region','time'], inplace=True)\n",
    "# final.set_index(['region','time'], inplace=True)\n",
    "final.head(3)"
   ]
  },
  {
   "cell_type": "code",
   "execution_count": 321,
   "metadata": {},
   "outputs": [
    {
     "data": {
      "text/html": [
       "<div>\n",
       "<style scoped>\n",
       "    .dataframe tbody tr th:only-of-type {\n",
       "        vertical-align: middle;\n",
       "    }\n",
       "\n",
       "    .dataframe tbody tr th {\n",
       "        vertical-align: top;\n",
       "    }\n",
       "\n",
       "    .dataframe thead th {\n",
       "        text-align: right;\n",
       "    }\n",
       "</style>\n",
       "<table border=\"1\" class=\"dataframe\">\n",
       "  <thead>\n",
       "    <tr style=\"text-align: right;\">\n",
       "      <th></th>\n",
       "      <th></th>\n",
       "      <th>target</th>\n",
       "      <th>y</th>\n",
       "    </tr>\n",
       "    <tr>\n",
       "      <th>region</th>\n",
       "      <th>time</th>\n",
       "      <th></th>\n",
       "      <th></th>\n",
       "    </tr>\n",
       "  </thead>\n",
       "  <tbody>\n",
       "    <tr>\n",
       "      <th rowspan=\"3\" valign=\"top\">1075</th>\n",
       "      <th>2016-05-31 23:00:00</th>\n",
       "      <td>1</td>\n",
       "      <td>37</td>\n",
       "    </tr>\n",
       "    <tr>\n",
       "      <th>2016-05-31 23:00:00</th>\n",
       "      <td>2</td>\n",
       "      <td>31</td>\n",
       "    </tr>\n",
       "    <tr>\n",
       "      <th>2016-05-31 23:00:00</th>\n",
       "      <td>3</td>\n",
       "      <td>38</td>\n",
       "    </tr>\n",
       "  </tbody>\n",
       "</table>\n",
       "</div>"
      ],
      "text/plain": [
       "                           target   y\n",
       "region time                          \n",
       "1075   2016-05-31 23:00:00      1  37\n",
       "       2016-05-31 23:00:00      2  31\n",
       "       2016-05-31 23:00:00      3  38"
      ]
     },
     "execution_count": 321,
     "metadata": {},
     "output_type": "execute_result"
    }
   ],
   "source": [
    "final = final.astype(str)\n",
    "final.set_index(['region','time'], inplace=True)\n",
    "\n",
    "final = final.stack().reset_index(level=[2])\n",
    "final.columns = ['target', 'y']\n",
    "final.head(3)"
   ]
  },
  {
   "cell_type": "code",
   "execution_count": 346,
   "metadata": {},
   "outputs": [
    {
     "name": "stdout",
     "output_type": "stream",
     "text": [
      "Wall time: 44 s\n"
     ]
    }
   ],
   "source": [
    "%%time\n",
    "results = [\"id,y\"]\n",
    "for i in final.iterrows():\n",
    "        idx, columns = i[0], i[1]\n",
    "        iD = idx[0]\n",
    "\n",
    "        date = idx[1]\n",
    "        year = date[:4]\n",
    "        month = date[5:7]\n",
    "        day = date[8:10]\n",
    "        hour = date[11:13]\n",
    "        if (hour[0]=='0'):\n",
    "            hour=hour[1]\n",
    "        \n",
    "        target = columns.target\n",
    "        y = columns.y\n",
    "        results.append(f'{iD}_{year}-{month}-{day}_{hour}_{target},{y}')"
   ]
  },
  {
   "cell_type": "code",
   "execution_count": 246,
   "metadata": {},
   "outputs": [],
   "source": [
    "# solution.to_csv(r'C:\\Users\\preductor\\Documents\\MachineLearning\\6_course\\Time series analysis\\week_5\\solution.csv', sep=',', index=False)\n"
   ]
  },
  {
   "cell_type": "code",
   "execution_count": 347,
   "metadata": {},
   "outputs": [],
   "source": [
    "with open(r'C:\\Users\\preductor\\Documents\\MachineLearning\\6_course\\Time series analysis\\week_5\\solution.csv',\n",
    "          'w') as f:\n",
    "    f.write('\\n'.join(results))"
   ]
  },
  {
   "cell_type": "code",
   "execution_count": 345,
   "metadata": {},
   "outputs": [
    {
     "data": {
      "text/plain": [
       "'1075_2016-05-31_23_2,31'"
      ]
     },
     "execution_count": 345,
     "metadata": {},
     "output_type": "execute_result"
    }
   ],
   "source": [
    "results[2]"
   ]
  },
  {
   "cell_type": "code",
   "execution_count": null,
   "metadata": {},
   "outputs": [],
   "source": []
  }
 ],
 "metadata": {
  "kernelspec": {
   "display_name": "Python 3",
   "language": "python",
   "name": "python3"
  },
  "language_info": {
   "codemirror_mode": {
    "name": "ipython",
    "version": 3
   },
   "file_extension": ".py",
   "mimetype": "text/x-python",
   "name": "python",
   "nbconvert_exporter": "python",
   "pygments_lexer": "ipython3",
   "version": "3.6.5"
  }
 },
 "nbformat": 4,
 "nbformat_minor": 2
}
